{
 "cells": [
  {
   "cell_type": "markdown",
   "metadata": {
    "collapsed": true
   },
   "source": [
    "# General E(2)-Equivariant Steerable CNNs  -  Hands-on tutorial"
   ]
  },
  {
   "cell_type": "markdown",
   "metadata": {},
   "source": [
    "We start by importing the necessary packages. The user typically only needs to interact with the high level functionalities provided in the subpackages `e2cnn.gspaces` and `e2cnn.nn`."
   ]
  },
  {
   "cell_type": "code",
   "execution_count": 1,
   "metadata": {},
   "outputs": [
    {
     "name": "stderr",
     "output_type": "stream",
     "text": [
      "/home/jack/anaconda3/envs/cnn-research/lib/python3.7/site-packages/tqdm/auto.py:22: TqdmWarning: IProgress not found. Please update jupyter and ipywidgets. See https://ipywidgets.readthedocs.io/en/stable/user_install.html\n",
      "  from .autonotebook import tqdm as notebook_tqdm\n"
     ]
    }
   ],
   "source": [
    "import torch\n",
    "\n",
    "from e2cnn import gspaces\n",
    "from e2cnn import nn\n",
    "import numpy as np"
   ]
  },
  {
   "cell_type": "markdown",
   "metadata": {},
   "source": [
    "## Basic Examples\n",
    "\n",
    "Throughout the whole tutorial we consider data which is given as a signal on the plane $\\mathbb{R}^2$, for instance images.\n",
    "We formalize such signals as **feature vector fields**, i.e. functions\n",
    "$$ f: \\mathbb{R}^2 \\to \\mathbb{R}^c $$\n",
    "\n",
    "which assign a $c$-dimensional feature vector $f(x)\\in\\mathbb{R}^c$ to each spatial position $x\\in\\mathbb{R}^2$.\n",
    "\n",
    "The plane $\\mathbb{R}^2$ has many symmetries which can be exploited by equivariant CNNs.\n",
    "Our library focuses on exploiting **isometries**, i.e. distance preserving transformations.\n",
    "Specifically for $\\mathbb{R}^2$, the isometries are formalized by the **Euclidean group** $E(2)$ which consists of *translations*, *rotations* and *reflections*.\n",
    "\n",
    "E(2) steerable CNNs can adaptively choose the level of symmetries which they respect.\n",
    "Since we are choosing a *convolutional* network design, all models will be equivariant under translations.\n",
    "The open choice is therefore in the level of point symmetries (here reflections and rotations) which are being considered.\n",
    "All of these choices are subgroups $G\\leq O(2)$ of the orthogonal group.\n",
    "For simplicity, we will in the following consider a the cyclic subgroup $C_4$, which models the $4$ *rotations* which are multiples of $\\frac{\\pi}{2}$, that is, $\\big\\{0, \\frac{\\pi}{2}, \\pi, \\frac{3\\pi}{2}\\big\\}$.\n",
    "Because these are perfect symmetries of the grid, transforming an image with this group does not require any interpolation.\n",
    "\n",
    "We determine both the **point group** and its **action on the space** by instantiating a subclass of `gspace.GSpace`.\n",
    "For the rotational action of $G=C_4$ on $\\mathbb{R}^2$ this is done by:"
   ]
  },
  {
   "cell_type": "code",
   "execution_count": 2,
   "metadata": {},
   "outputs": [],
   "source": [
    "r2_act = gspaces.Rot2dOnR2(N=4)"
   ]
  },
  {
   "cell_type": "markdown",
   "metadata": {},
   "source": [
    "Having specified the symmetry transformation on the *base space* $\\mathbb{R}^2$, we next need define how the signals sampled on this space transform under the action of $G$.\n",
    "This transformation law of feature fields is implemented as a **FieldType**.\n",
    "\n",
    "Each single feature space (layer) of E(2) steerable CNNs has its own transformation law which the user needs to specify.\n",
    "The transformation law of the network *input* and *output* is typically determined by the inference task.\n",
    "\n",
    "As a trivial, yet important example we consider the case of gray-scale images as network input.\n",
    "A rotation of a gray-scale image is performed by moving each pixel to a new position without changing their intensity values.\n",
    "The invariance of the scalar pixel values under rotations is modeled by the **trivial representation** $\\rho:G\\to\\operatorname{GL}(1),\\ g\\mapsto(1)$ of $G$ and identifies them as **scalar fields**.\n",
    "Formally, a scalar field is a function $f: \\mathbb{R}^2 \\to \\mathbb{R}$ mapping to a feature vector with $c=1$ channels.\n",
    "A rotation by an angle $\\theta \\in C_4$ transforms this scalar field as\n",
    "\n",
    "$$ \\big[\\mathcal{R}_{\\theta}\\, f\\big](x)\n",
    "   \\ :=\\ \\rho(\\theta)\\,f\\big(\\psi(-\\theta)x\\big)\n",
    "   \\ =\\ 1\\cdot f\\big(\\psi(-\\theta)x\\big)\n",
    "   \\ =\\ f\\big(\\psi(-\\theta)x\\big),$$\n",
    "\n",
    "where $\\mathcal{R}$ is the rotation operator acting on the field and $\\psi(\\theta)\\in SO(2)$ is a rotation matrix.\n",
    "\n",
    "We instantiate the `nn.FieldType` modeling a gray-scale image by passing it the `gspaces.GSpace` instance and the trivial representation.\n",
    "The latter is passed as a *list of representations* which allows for feature spaces that comprise multiple independent feature fields as used in the hidden layers later on."
   ]
  },
  {
   "cell_type": "code",
   "execution_count": 3,
   "metadata": {},
   "outputs": [],
   "source": [
    "feat_type_in = nn.FieldType(r2_act, [r2_act.trivial_repr])"
   ]
  },
  {
   "cell_type": "markdown",
   "metadata": {},
   "source": [
    "When we build a model **equivariant** to a group $G$, we require that the output produced by the model transforms consistently when the input transforms under the action of an element $g \\in G$.\n",
    "For a function $F$ (e.g. a neural network), the **equivariance constraint** requires:\n",
    "\n",
    "$$ \\mathcal{T}^\\text{out}_g \\big[F(x)\\big]\\ =\\ F\\big(\\mathcal{T}^\\text{in}_g[x]\\big) \\quad \\forall g\\in G$$\n",
    "\n",
    "where $\\mathcal{T}^\\text{in}_g$ is the transformation of the input by the group element $g$ while $\\mathcal{T}^\\text{out}_g$ is the transformation of the output by the same element.\n",
    "We have already defined $\\mathcal{T}^\\text{in}$ by the *field type* `feat_type_in`. \n",
    "The transformation law $\\mathcal{T}^\\text{out}$ of the output of the first layer is similarly chosen by defining an instance `feat_type_out` of `nn.FieldType`.\n",
    "\n",
    "Instead of scalar feature fields, we often choose so called **regular feature fields** $f:\\mathbb{R}^2\\to\\mathbb{R}^{|G|}$ in the hidden layers of the model.\n",
    "These fields correspond to *group convolutions* and are empirically found to work best in most cases.\n",
    "Regular feature fields associate a feature vector of dimensionality equal to the cardinality of $G$, in our case $|C_4|=4$, to each point.\n",
    "Their name comes from the fact that they transform under the **regular representation** $\\rho_\\text{reg}: G \\to \\operatorname{GL}\\big(\\mathbb{R}^{|G|}\\big)$ of $G$ which acts via permutations.\n",
    "Formally, a regular feature field thus transforms according to:\n",
    "\n",
    "$$ \\big[\\mathcal{R}_{\\theta}\\, f\\big](x)\\ :=\\ \\rho_\\text{reg}(\\theta)\\, f\\big(\\psi(-\\theta)x\\big)$$\n",
    "\n",
    "A feature space consisting of a single regular feature field is instantiated as before, with the only difference that the trivial representation is replaced by the regular representation:"
   ]
  },
  {
   "cell_type": "code",
   "execution_count": 4,
   "metadata": {},
   "outputs": [],
   "source": [
    "feat_type_out = nn.FieldType(r2_act, [r2_act.regular_repr])"
   ]
  },
  {
   "cell_type": "markdown",
   "metadata": {},
   "source": [
    "As deep feature spaces typically comprise multiple independent features (equal to channels for conventional CNNs), we usually choose multiple feature fields.\n",
    "For example, we can use 3 regular fields.\n",
    "The full feature space is in this case modeled as a *stacked* field $f: \\mathbb{R}^2 \\to \\mathbb{R}^{3|G|}$ which transforms according to the **direct sum** of three regular representations:\n",
    "\n",
    "$$\\rho(\\theta)\n",
    "    \\ =\\ \\rho_\\text{reg}(\\theta) \\oplus \\rho_\\text{reg}(\\theta) \\oplus \\rho_\\text{reg}(\\theta)\n",
    "    \\ =\\ \\begin{bmatrix} \n",
    "            \\rho_\\text{reg}(\\theta) & 0 & 0 \\\\\n",
    "            0 & \\rho_\\text{reg}(\\theta) & 0 \\\\\n",
    "            0 & 0 & \\rho_\\text{reg}(\\theta) \\\\\n",
    "          \\end{bmatrix}\n",
    "          \\quad\\in\\ \\mathbb{R}^{3N \\times 3N}$$\n",
    "\n",
    "Intuitively, the direct sum simply builds a block diagonal representation of the three regular representations, which implies that the three regular fields transform independently from each other.\n",
    "\n",
    "We instantiate a `nn.FieldType` composed of 3 regular representations by passing the full field representation as a list of three regular representations:"
   ]
  },
  {
   "cell_type": "code",
   "execution_count": 5,
   "metadata": {},
   "outputs": [],
   "source": [
    "feat_type_out = nn.FieldType(r2_act, 3*[r2_act.regular_repr])"
   ]
  },
  {
   "cell_type": "markdown",
   "metadata": {},
   "source": [
    "Once having defined how the input and output feature spaces should transform, we can build neural network functions as **equivariant modules**.\n",
    "These are implemented as subclasses of an abstract base class `nn.EquivariantModule` which itself inherits from `torch.nn.Module`.\n",
    "\n",
    "We start by instantiating a convolutional layer that maps between fields of types `feat_type_in` and `feat_type_out`:"
   ]
  },
  {
   "cell_type": "code",
   "execution_count": 6,
   "metadata": {},
   "outputs": [
    {
     "name": "stderr",
     "output_type": "stream",
     "text": [
      "/home/jack/anaconda3/envs/cnn-research/lib/python3.7/site-packages/e2cnn/nn/modules/r2_conv/basisexpansion_singleblock.py:80: UserWarning: indexing with dtype torch.uint8 is now deprecated, please use a dtype torch.bool instead. (Triggered internally at  ../aten/src/ATen/native/IndexingUtils.h:28.)\n",
      "  full_mask[mask] = norms.to(torch.uint8)\n"
     ]
    }
   ],
   "source": [
    "conv = nn.R2Conv(feat_type_in, feat_type_out, kernel_size=3)"
   ]
  },
  {
   "cell_type": "markdown",
   "metadata": {},
   "source": [
    "Each equivariant module has an input and output type.\n",
    "As a function (`.forward()`), it *requires* its inputs to transform according to its input type and is guaranteed to return feature fields associated with its output type.\n",
    "To prevent the user from accidentally feeding an incorrectly transforming input field into an equivariant module, we perform a dynamic type checking.\n",
    "In order to do so, we define **geometric tensors** as data containers.\n",
    "They are wrapping a *PyTorch* `torch.Tensor` to augment them with an instance of `FieldType`.\n",
    "\n",
    "Let's build a few random 32x32 gray-scale images and wrap them into an `nn.GeometricTensor`:"
   ]
  },
  {
   "cell_type": "code",
   "execution_count": 7,
   "metadata": {},
   "outputs": [],
   "source": [
    "x = torch.randn(4, 1, 32, 32)\n",
    "x = nn.GeometricTensor(x, feat_type_in)\n",
    "\n",
    "assert isinstance(x.tensor, torch.Tensor)"
   ]
  },
  {
   "cell_type": "markdown",
   "metadata": {},
   "source": [
    "As usually done in *PyTorch*, an image or feature map is stored in a 4-dimensional array of shape BxCxHxW, where B is the batch-size, C is the number of channels and W and H are the spatial dimensions."
   ]
  },
  {
   "cell_type": "markdown",
   "metadata": {},
   "source": [
    "We can feed a geometric tensor to an equivariant module as we feed normal tensors in *PyTorch*'s modules:"
   ]
  },
  {
   "cell_type": "code",
   "execution_count": 8,
   "metadata": {},
   "outputs": [],
   "source": [
    "y = conv(x)"
   ]
  },
  {
   "cell_type": "markdown",
   "metadata": {},
   "source": [
    "We can verify that the output is indeed associated with the output type of the convolutional layer:"
   ]
  },
  {
   "cell_type": "code",
   "execution_count": 9,
   "metadata": {
    "scrolled": true
   },
   "outputs": [],
   "source": [
    "assert y.type == feat_type_out"
   ]
  },
  {
   "cell_type": "markdown",
   "metadata": {},
   "source": [
    "Lets check whether the output transforms as described by the output type when the input transforms according to the input type.\n",
    "The $G$-transformation of a geometric tensor is hereby conveniently done by calling `nn.GeometricTensor.transform()`."
   ]
  },
  {
   "cell_type": "code",
   "execution_count": 10,
   "metadata": {
    "scrolled": false
   },
   "outputs": [],
   "source": [
    "# for each group element\n",
    "for g in r2_act.testing_elements:\n",
    "    # transform the input with the current group element according to the input type\n",
    "    x_transformed = x.transform(g)\n",
    "    \n",
    "    # feed the transformed input in the convolutional layer\n",
    "    y_from_x_transformed = conv(x_transformed)\n",
    "    \n",
    "    # the result should be equivalent to rotating the output produced in the \n",
    "    # previous block according to the output type\n",
    "    y_transformed_from_x = y.transform(g)\n",
    "    assert torch.allclose(y_from_x_transformed.tensor, y_transformed_from_x.tensor, atol=1e-5), g"
   ]
  },
  {
   "cell_type": "markdown",
   "metadata": {},
   "source": [
    "Any network operation is required to be equivariant.\n",
    "`e2cnn.nn` provides a wide range of equivariant network modules which guarantee this behavior.\n",
    "\n",
    "As an example, we will next apply an **equivariant nonlinearity** to the output feature field of the convolution.\n",
    "For the specific case of regular representations, any pointwise nonlinearity like *ReLUs* are equivariant.\n",
    "Note that this is *not* the case for many other choices of representations / field types!\n",
    "\n",
    "We instantiate a `e2cnn.nn.ReLU`, which, as an `nn.EquivariantModule`, requires to be informed about its input type to be able to perform the type checking.\n",
    "Here we are passing `feat_type_out`, the output of the equivariant convolution layer, as input type.\n",
    "It is not necessary to pass an output type to the nonlinearity since this is here determined by its input type."
   ]
  },
  {
   "cell_type": "code",
   "execution_count": 11,
   "metadata": {},
   "outputs": [],
   "source": [
    "relu = nn.ReLU(feat_type_out)\n",
    "\n",
    "z = relu(y)"
   ]
  },
  {
   "cell_type": "markdown",
   "metadata": {},
   "source": [
    "We can verify the equivariance again:"
   ]
  },
  {
   "cell_type": "code",
   "execution_count": 12,
   "metadata": {},
   "outputs": [],
   "source": [
    "# for each group element\n",
    "for g in r2_act.testing_elements:\n",
    "    y_transformed = y.transform(g)\n",
    "    z_from_y_transformed = relu(y_transformed)\n",
    "    \n",
    "    z_transformed_from_y = z.transform(g)\n",
    "    \n",
    "    assert torch.allclose(z_from_y_transformed.tensor, z_transformed_from_y.tensor, atol=1e-5), g"
   ]
  },
  {
   "cell_type": "markdown",
   "metadata": {},
   "source": [
    "In *deep learning* we usually want to stack multiple layers to build a deep model.\n",
    "As long as each layer is equivariant and consecutive layers are compatible, the equivariance property is preserved by induction.\n",
    "\n",
    "The compatibility of two consecutive layers requires the output type of the first layer to be equal to the input type of the second layer.\n",
    "\n",
    "In case we feed an input with the wrong type to a module, an error is raised:"
   ]
  },
  {
   "cell_type": "code",
   "execution_count": 13,
   "metadata": {},
   "outputs": [],
   "source": [
    "layer1 = nn.R2Conv(feat_type_in, feat_type_out, kernel_size=3)\n",
    "layer2 = nn.ReLU(feat_type_out) # the input type of the ReLU should be the output type of the convolution\n",
    "\n",
    "x = nn.GeometricTensor(torch.randn(3, 1, 32, 32), feat_type_in)\n",
    "\n",
    "try:\n",
    "    y = layer2(layer1(x))\n",
    "except AssertionError as e:\n",
    "    print(e)"
   ]
  },
  {
   "cell_type": "markdown",
   "metadata": {},
   "source": [
    "Simple deeper architectures can be built using a **SequentialModule**:"
   ]
  },
  {
   "cell_type": "code",
   "execution_count": 14,
   "metadata": {},
   "outputs": [],
   "source": [
    "feat_type_in = nn.FieldType(r2_act, [r2_act.trivial_repr])\n",
    "feat_type_hid = nn.FieldType(r2_act, 8*[r2_act.regular_repr])\n",
    "feat_type_out = nn.FieldType(r2_act, 2*[r2_act.regular_repr])\n",
    "\n",
    "model = nn.SequentialModule(\n",
    "    nn.R2Conv(feat_type_in, feat_type_hid, kernel_size=3),\n",
    "    nn.InnerBatchNorm(feat_type_hid),\n",
    "    nn.ReLU(feat_type_hid),\n",
    "    nn.R2Conv(feat_type_hid, feat_type_hid, kernel_size=3),\n",
    "    nn.InnerBatchNorm(feat_type_hid),\n",
    "    nn.ReLU(feat_type_hid),\n",
    "    nn.R2Conv(feat_type_hid, feat_type_out, kernel_size=3),\n",
    ").eval()\n"
   ]
  },
  {
   "cell_type": "markdown",
   "metadata": {},
   "source": [
    "As every layer is equivariant and consecutive layers are compatible, the whole model is equivariant."
   ]
  },
  {
   "cell_type": "code",
   "execution_count": 15,
   "metadata": {},
   "outputs": [],
   "source": [
    "x = torch.randn(1, 1, 17, 17)\n",
    "x = nn.GeometricTensor(x, feat_type_in)\n",
    "\n",
    "y = model(x)\n",
    "\n",
    "# for each group element\n",
    "for g in r2_act.testing_elements:\n",
    "    x_transformed = x.transform(g)\n",
    "    y_from_x_transformed = model(x_transformed)\n",
    "    \n",
    "    y_transformed_from_x = y.transform(g)\n",
    "    \n",
    "    assert torch.allclose(y_from_x_transformed.tensor, y_transformed_from_x.tensor, atol=1e-5), g"
   ]
  },
  {
   "cell_type": "markdown",
   "metadata": {},
   "source": [
    "Usually, at the end of the model we want to produce a single feature vector to use for classification.\n",
    "To do so, it is common to pool over the spatial dimensions, e.g. through average pooling.\n",
    "\n",
    "This produces (approximatively) translation-invariant feature vectors."
   ]
  },
  {
   "cell_type": "code",
   "execution_count": 16,
   "metadata": {},
   "outputs": [
    {
     "name": "stdout",
     "output_type": "stream",
     "text": [
      "torch.Size([1, 8, 11, 11])\n",
      "torch.Size([1, 8, 1, 1])\n"
     ]
    }
   ],
   "source": [
    "avgpool = nn.PointwiseAvgPool(feat_type_out, 11)\n",
    "\n",
    "y = model(x)\n",
    "print(y.shape)\n",
    "y1 = avgpool(y)\n",
    "\n",
    "print(y1.shape)"
   ]
  },
  {
   "cell_type": "markdown",
   "metadata": {},
   "source": [
    "In our case, the feature vectors $f(x)\\in\\mathbb{R}^c$ associated to each point $x\\in\\mathbb{R}^2$ have a well defined transformation law.\n",
    "The output of the model now transforms according to `feat_type_out` (here two $C_4$ regular fields, i.e. 8 channels).\n",
    "For our choice of regular representations (which are permutation representations) the channels in the feature vectors associated to each point permute when the input is rotated."
   ]
  },
  {
   "cell_type": "code",
   "execution_count": 17,
   "metadata": {},
   "outputs": [
    {
     "name": "stdout",
     "output_type": "stream",
     "text": [
      "rotation by 0*pi/2: [[[-0.0062  0.7065  0.0736 ...  0.2962  0.6238 -0.2297]\n",
      "  [ 0.0825 -0.0983 -0.0093 ...  0.582   0.0566 -1.0035]\n",
      "  [ 0.2138  0.067   0.4287 ...  0.787   0.1635 -0.4441]\n",
      "  ...\n",
      "  [-0.0676  0.8545  0.5998 ...  0.4094 -0.0036 -0.1553]\n",
      "  [-0.1226  0.2729  0.0829 ...  0.2623  0.5425  0.1613]\n",
      "  [-0.229   0.5324  0.2736 ...  1.0777  0.7616 -0.7488]]\n",
      "\n",
      " [[ 0.2255  0.6185  0.0048 ...  0.8282 -0.1903 -0.3007]\n",
      "  [ 0.259   0.9018 -0.0589 ...  0.1189 -0.3541 -0.498 ]\n",
      "  [-0.0857  0.8136  0.522  ...  0.2266 -0.0698  0.3616]\n",
      "  ...\n",
      "  [ 0.2623  0.3083 -0.335  ... -0.2549 -0.1712  0.7352]\n",
      "  [ 0.3337  0.6684 -0.1932 ... -0.4715 -0.2142  0.3884]\n",
      "  [-0.0248  0.3994  0.519  ...  0.3825 -0.07    0.0135]]\n",
      "\n",
      " [[ 0.2334 -0.0607 -0.11   ...  0.1622  0.0966  0.2384]\n",
      "  [ 0.5227  0.4309  0.1602 ... -0.2007 -0.2256 -0.0805]\n",
      "  [ 0.0331 -0.4014 -0.0887 ...  0.3384 -0.0962  0.3495]\n",
      "  ...\n",
      "  [ 0.1248  0.49    0.2081 ...  0.149   0.0241  0.2502]\n",
      "  [ 0.0165  0.4787  0.5209 ...  0.0398  0.1131 -0.1044]\n",
      "  [ 0.1713 -0.1495 -0.3613 ...  0.1961 -0.1076 -0.1444]]\n",
      "\n",
      " ...\n",
      "\n",
      " [[ 0.2214  0.3324  0.3098 ...  0.0529  1.3307  0.2614]\n",
      "  [ 0.2687 -0.0104  0.7002 ...  0.6053  1.5914  1.071 ]\n",
      "  [ 0.6024  0.5     0.7624 ...  0.6615  0.4997  0.4223]\n",
      "  ...\n",
      "  [ 0.5849  0.6108  0.5419 ... -0.2784 -0.036   0.2017]\n",
      "  [-0.2124 -0.0927  0.0916 ...  0.3295  0.8057  0.5642]\n",
      "  [ 1.0138  0.8513  0.8741 ...  0.5348  0.703   0.6233]]\n",
      "\n",
      " [[ 0.7096  0.5278  0.3468 ...  0.4297 -0.7129  1.2166]\n",
      "  [ 0.9756  0.5944 -0.4138 ...  0.8228 -0.4837  0.5589]\n",
      "  [ 0.5756  0.9928  0.018  ...  0.5946  0.5313  1.0525]\n",
      "  ...\n",
      "  [ 0.4456  0.2012  0.6638 ...  0.3463  0.098   0.7673]\n",
      "  [ 0.998   0.5679  0.5535 ...  1.125   0.7836  0.7855]\n",
      "  [ 0.8614  1.0421  0.6601 ...  1.6513  0.7336  0.795 ]]\n",
      "\n",
      " [[ 0.7448  0.8183 -0.1519 ...  0.3404  0.2273  0.439 ]\n",
      "  [ 0.2741  0.2959  0.091  ...  0.7857  0.3453  0.739 ]\n",
      "  [ 0.6142  0.9886  0.5373 ...  0.039  -0.3769  0.5569]\n",
      "  ...\n",
      "  [ 0.7958  0.4911 -0.2023 ...  0.8409  0.5075  1.3469]\n",
      "  [ 1.313   1.1254  0.6626 ...  1.303   0.4269  0.7008]\n",
      "  [ 1.5831  1.1696  0.503  ...  0.6123  0.0402  0.3881]]]\n",
      "rotation by 1*pi/2: [[[ 5.8014e-01 -8.5223e-02 -4.4805e-02 ... -2.2725e-01 -5.9132e-01  4.2719e-01]\n",
      "  [ 1.0536e+00  2.7600e-01  8.0419e-01 ... -2.2432e-02 -4.0995e-01  3.2275e-01]\n",
      "  [ 1.7313e-01 -1.6428e-01 -1.7772e-01 ...  3.3356e-01 -1.3501e-01 -6.8858e-01]\n",
      "  ...\n",
      "  [ 3.9316e-01  5.4659e-01  3.2696e-01 ... -6.9224e-03 -1.5973e-01  2.5546e-01]\n",
      "  [ 3.5343e-02  1.6131e-01 -2.2702e-01 ... -1.5140e-01  3.8202e-01  4.4046e-01]\n",
      "  [ 1.5078e-01 -1.1782e-03 -2.5624e-01 ... -3.3989e-01 -4.6616e-02  2.2849e-01]]\n",
      "\n",
      " [[-2.2973e-01 -1.0035e+00 -4.4406e-01 ... -1.5525e-01  1.6130e-01 -7.4880e-01]\n",
      "  [ 6.2383e-01  5.6594e-02  1.6349e-01 ... -3.6292e-03  5.4248e-01  7.6165e-01]\n",
      "  [ 2.9623e-01  5.8202e-01  7.8703e-01 ...  4.0941e-01  2.6233e-01  1.0777e+00]\n",
      "  ...\n",
      "  [ 7.3635e-02 -9.3367e-03  4.2868e-01 ...  5.9982e-01  8.2925e-02  2.7360e-01]\n",
      "  [ 7.0651e-01 -9.8251e-02  6.6999e-02 ...  8.5448e-01  2.7291e-01  5.3236e-01]\n",
      "  [-6.2149e-03  8.2496e-02  2.1384e-01 ... -6.7626e-02 -1.2255e-01 -2.2897e-01]]\n",
      "\n",
      " [[-3.0067e-01 -4.9800e-01  3.6161e-01 ...  7.3523e-01  3.8840e-01  1.3507e-02]\n",
      "  [-1.9032e-01 -3.5409e-01 -6.9842e-02 ... -1.7124e-01 -2.1424e-01 -6.9967e-02]\n",
      "  [ 8.2822e-01  1.1886e-01  2.2662e-01 ... -2.5493e-01 -4.7154e-01  3.8251e-01]\n",
      "  ...\n",
      "  [ 4.8148e-03 -5.8939e-02  5.2197e-01 ... -3.3500e-01 -1.9321e-01  5.1902e-01]\n",
      "  [ 6.1848e-01  9.0181e-01  8.1359e-01 ...  3.0829e-01  6.6843e-01  3.9937e-01]\n",
      "  [ 2.2548e-01  2.5895e-01 -8.5690e-02 ...  2.6231e-01  3.3367e-01 -2.4848e-02]]\n",
      "\n",
      " ...\n",
      "\n",
      " [[ 1.7729e+00  1.1536e+00  8.0354e-01 ...  5.1813e-01  1.0235e+00  1.5432e+00]\n",
      "  [ 6.2612e-01  5.3045e-01  6.2261e-01 ...  6.1938e-01  7.9403e-01  4.0555e-01]\n",
      "  [-5.5990e-02  4.8662e-02 -1.9952e-01 ...  2.9127e-01  4.5048e-02 -1.0090e+00]\n",
      "  ...\n",
      "  [ 9.6834e-01  7.5708e-01  8.7376e-02 ...  2.4236e-01  6.9102e-01  1.7088e-01]\n",
      "  [-7.8312e-01  1.9230e-01  2.5390e-01 ... -3.9890e-01 -4.8905e-02 -6.9926e-03]\n",
      "  [ 3.5113e-01  9.4709e-01  9.4485e-01 ...  6.9840e-01  1.7092e+00  1.1493e+00]]\n",
      "\n",
      " [[ 2.6142e-01  1.0710e+00  4.2230e-01 ...  2.0175e-01  5.6421e-01  6.2333e-01]\n",
      "  [ 1.3307e+00  1.5914e+00  4.9968e-01 ... -3.6021e-02  8.0570e-01  7.0300e-01]\n",
      "  [ 5.2856e-02  6.0529e-01  6.6153e-01 ... -2.7843e-01  3.2954e-01  5.3481e-01]\n",
      "  ...\n",
      "  [ 3.0979e-01  7.0022e-01  7.6241e-01 ...  5.4188e-01  9.1626e-02  8.7410e-01]\n",
      "  [ 3.3243e-01 -1.0372e-02  5.0001e-01 ...  6.1085e-01 -9.2749e-02  8.5134e-01]\n",
      "  [ 2.2140e-01  2.6874e-01  6.0243e-01 ...  5.8493e-01 -2.1238e-01  1.0138e+00]]\n",
      "\n",
      " [[ 1.2166e+00  5.5893e-01  1.0525e+00 ...  7.6733e-01  7.8548e-01  7.9496e-01]\n",
      "  [-7.1293e-01 -4.8373e-01  5.3130e-01 ...  9.8022e-02  7.8364e-01  7.3360e-01]\n",
      "  [ 4.2972e-01  8.2283e-01  5.9458e-01 ...  3.4626e-01  1.1250e+00  1.6513e+00]\n",
      "  ...\n",
      "  [ 3.4685e-01 -4.1382e-01  1.8006e-02 ...  6.6376e-01  5.5353e-01  6.6006e-01]\n",
      "  [ 5.2777e-01  5.9442e-01  9.9277e-01 ...  2.0118e-01  5.6785e-01  1.0421e+00]\n",
      "  [ 7.0963e-01  9.7556e-01  5.7560e-01 ...  4.4556e-01  9.9803e-01  8.6145e-01]]]\n",
      "rotation by 2*pi/2: [[[-1.4440e-01 -1.0761e-01  1.9607e-01 ... -3.6131e-01 -1.4955e-01  1.7131e-01]\n",
      "  [-1.0436e-01  1.1313e-01  3.9804e-02 ...  5.2085e-01  4.7873e-01  1.6511e-02]\n",
      "  [ 2.5017e-01  2.4120e-02  1.4903e-01 ...  2.0811e-01  4.9000e-01  1.2482e-01]\n",
      "  ...\n",
      "  [ 3.4947e-01 -9.6155e-02  3.3838e-01 ... -8.8676e-02 -4.0140e-01  3.3130e-02]\n",
      "  [-8.0463e-02 -2.2557e-01 -2.0068e-01 ...  1.6016e-01  4.3090e-01  5.2268e-01]\n",
      "  [ 2.3842e-01  9.6584e-02  1.6215e-01 ... -1.0996e-01 -6.0672e-02  2.3342e-01]]\n",
      "\n",
      " [[ 4.2719e-01  3.2275e-01 -6.8858e-01 ...  2.5546e-01  4.4046e-01  2.2849e-01]\n",
      "  [-5.9132e-01 -4.0995e-01 -1.3501e-01 ... -1.5973e-01  3.8202e-01 -4.6616e-02]\n",
      "  [-2.2725e-01 -2.2432e-02  3.3356e-01 ... -6.9224e-03 -1.5140e-01 -3.3989e-01]\n",
      "  ...\n",
      "  [-4.4805e-02  8.0419e-01 -1.7772e-01 ...  3.2696e-01 -2.2702e-01 -2.5624e-01]\n",
      "  [-8.5223e-02  2.7600e-01 -1.6428e-01 ...  5.4659e-01  1.6131e-01 -1.1782e-03]\n",
      "  [ 5.8014e-01  1.0536e+00  1.7313e-01 ...  3.9316e-01  3.5343e-02  1.5078e-01]]\n",
      "\n",
      " [[-7.4880e-01  7.6165e-01  1.0777e+00 ...  2.7360e-01  5.3236e-01 -2.2897e-01]\n",
      "  [ 1.6130e-01  5.4248e-01  2.6233e-01 ...  8.2925e-02  2.7291e-01 -1.2255e-01]\n",
      "  [-1.5525e-01 -3.6292e-03  4.0941e-01 ...  5.9982e-01  8.5448e-01 -6.7626e-02]\n",
      "  ...\n",
      "  [-4.4406e-01  1.6349e-01  7.8703e-01 ...  4.2868e-01  6.6999e-02  2.1384e-01]\n",
      "  [-1.0035e+00  5.6594e-02  5.8202e-01 ... -9.3367e-03 -9.8251e-02  8.2496e-02]\n",
      "  [-2.2973e-01  6.2383e-01  2.9623e-01 ...  7.3635e-02  7.0651e-01 -6.2149e-03]]\n",
      "\n",
      " ...\n",
      "\n",
      " [[ 3.8806e-01  4.0210e-02  6.1227e-01 ...  5.0304e-01  1.1696e+00  1.5831e+00]\n",
      "  [ 7.0080e-01  4.2695e-01  1.3030e+00 ...  6.6263e-01  1.1254e+00  1.3130e+00]\n",
      "  [ 1.3469e+00  5.0752e-01  8.4085e-01 ... -2.0235e-01  4.9109e-01  7.9580e-01]\n",
      "  ...\n",
      "  [ 5.5691e-01 -3.7689e-01  3.9040e-02 ...  5.3727e-01  9.8855e-01  6.1418e-01]\n",
      "  [ 7.3903e-01  3.4530e-01  7.8570e-01 ...  9.1029e-02  2.9592e-01  2.7409e-01]\n",
      "  [ 4.3903e-01  2.2726e-01  3.4043e-01 ... -1.5189e-01  8.1833e-01  7.4483e-01]]\n",
      "\n",
      " [[ 1.5432e+00  4.0555e-01 -1.0090e+00 ...  1.7088e-01 -6.9926e-03  1.1493e+00]\n",
      "  [ 1.0235e+00  7.9403e-01  4.5048e-02 ...  6.9102e-01 -4.8905e-02  1.7092e+00]\n",
      "  [ 5.1813e-01  6.1938e-01  2.9127e-01 ...  2.4236e-01 -3.9890e-01  6.9840e-01]\n",
      "  ...\n",
      "  [ 8.0354e-01  6.2261e-01 -1.9952e-01 ...  8.7376e-02  2.5390e-01  9.4485e-01]\n",
      "  [ 1.1536e+00  5.3045e-01  4.8662e-02 ...  7.5708e-01  1.9230e-01  9.4709e-01]\n",
      "  [ 1.7729e+00  6.2612e-01 -5.5990e-02 ...  9.6834e-01 -7.8312e-01  3.5113e-01]]\n",
      "\n",
      " [[ 6.2333e-01  7.0300e-01  5.3481e-01 ...  8.7410e-01  8.5134e-01  1.0138e+00]\n",
      "  [ 5.6421e-01  8.0570e-01  3.2954e-01 ...  9.1626e-02 -9.2749e-02 -2.1238e-01]\n",
      "  [ 2.0175e-01 -3.6021e-02 -2.7843e-01 ...  5.4188e-01  6.1085e-01  5.8493e-01]\n",
      "  ...\n",
      "  [ 4.2230e-01  4.9968e-01  6.6153e-01 ...  7.6241e-01  5.0001e-01  6.0243e-01]\n",
      "  [ 1.0710e+00  1.5914e+00  6.0529e-01 ...  7.0022e-01 -1.0372e-02  2.6874e-01]\n",
      "  [ 2.6142e-01  1.3307e+00  5.2856e-02 ...  3.0979e-01  3.3243e-01  2.2140e-01]]]\n",
      "rotation by 3*pi/2: [[[-2.4848e-02  3.3367e-01  2.6231e-01 ... -8.5690e-02  2.5895e-01  2.2548e-01]\n",
      "  [ 3.9937e-01  6.6843e-01  3.0829e-01 ...  8.1359e-01  9.0181e-01  6.1848e-01]\n",
      "  [ 5.1902e-01 -1.9321e-01 -3.3500e-01 ...  5.2197e-01 -5.8939e-02  4.8148e-03]\n",
      "  ...\n",
      "  [ 3.8251e-01 -4.7154e-01 -2.5493e-01 ...  2.2662e-01  1.1886e-01  8.2822e-01]\n",
      "  [-6.9967e-02 -2.1424e-01 -1.7124e-01 ... -6.9842e-02 -3.5409e-01 -1.9032e-01]\n",
      "  [ 1.3507e-02  3.8840e-01  7.3523e-01 ...  3.6161e-01 -4.9800e-01 -3.0067e-01]]\n",
      "\n",
      " [[ 1.7131e-01  1.6511e-02  1.2482e-01 ...  3.3130e-02  5.2268e-01  2.3342e-01]\n",
      "  [-1.4955e-01  4.7873e-01  4.9000e-01 ... -4.0140e-01  4.3090e-01 -6.0672e-02]\n",
      "  [-3.6131e-01  5.2085e-01  2.0811e-01 ... -8.8676e-02  1.6016e-01 -1.0996e-01]\n",
      "  ...\n",
      "  [ 1.9607e-01  3.9804e-02  1.4903e-01 ...  3.3838e-01 -2.0068e-01  1.6215e-01]\n",
      "  [-1.0761e-01  1.1313e-01  2.4120e-02 ... -9.6155e-02 -2.2557e-01  9.6584e-02]\n",
      "  [-1.4440e-01 -1.0436e-01  2.5017e-01 ...  3.4947e-01 -8.0463e-02  2.3842e-01]]\n",
      "\n",
      " [[ 2.2849e-01 -4.6616e-02 -3.3989e-01 ... -2.5624e-01 -1.1782e-03  1.5078e-01]\n",
      "  [ 4.4046e-01  3.8202e-01 -1.5140e-01 ... -2.2702e-01  1.6131e-01  3.5343e-02]\n",
      "  [ 2.5546e-01 -1.5973e-01 -6.9224e-03 ...  3.2696e-01  5.4659e-01  3.9316e-01]\n",
      "  ...\n",
      "  [-6.8858e-01 -1.3501e-01  3.3356e-01 ... -1.7772e-01 -1.6428e-01  1.7313e-01]\n",
      "  [ 3.2275e-01 -4.0995e-01 -2.2432e-02 ...  8.0419e-01  2.7600e-01  1.0536e+00]\n",
      "  [ 4.2719e-01 -5.9132e-01 -2.2725e-01 ... -4.4805e-02 -8.5223e-02  5.8014e-01]]\n",
      "\n",
      " ...\n",
      "\n",
      " [[ 8.6145e-01  9.9803e-01  4.4556e-01 ...  5.7560e-01  9.7556e-01  7.0963e-01]\n",
      "  [ 1.0421e+00  5.6785e-01  2.0118e-01 ...  9.9277e-01  5.9442e-01  5.2777e-01]\n",
      "  [ 6.6006e-01  5.5353e-01  6.6376e-01 ...  1.8006e-02 -4.1382e-01  3.4685e-01]\n",
      "  ...\n",
      "  [ 1.6513e+00  1.1250e+00  3.4626e-01 ...  5.9458e-01  8.2283e-01  4.2972e-01]\n",
      "  [ 7.3360e-01  7.8364e-01  9.8022e-02 ...  5.3130e-01 -4.8373e-01 -7.1293e-01]\n",
      "  [ 7.9496e-01  7.8548e-01  7.6733e-01 ...  1.0525e+00  5.5893e-01  1.2166e+00]]\n",
      "\n",
      " [[ 1.5831e+00  1.3130e+00  7.9580e-01 ...  6.1418e-01  2.7409e-01  7.4483e-01]\n",
      "  [ 1.1696e+00  1.1254e+00  4.9109e-01 ...  9.8855e-01  2.9592e-01  8.1833e-01]\n",
      "  [ 5.0304e-01  6.6263e-01 -2.0235e-01 ...  5.3727e-01  9.1029e-02 -1.5189e-01]\n",
      "  ...\n",
      "  [ 6.1227e-01  1.3030e+00  8.4085e-01 ...  3.9040e-02  7.8570e-01  3.4043e-01]\n",
      "  [ 4.0210e-02  4.2695e-01  5.0752e-01 ... -3.7689e-01  3.4530e-01  2.2726e-01]\n",
      "  [ 3.8806e-01  7.0080e-01  1.3469e+00 ...  5.5691e-01  7.3903e-01  4.3903e-01]]\n",
      "\n",
      " [[ 1.1493e+00  1.7092e+00  6.9840e-01 ...  9.4485e-01  9.4709e-01  3.5113e-01]\n",
      "  [-6.9926e-03 -4.8905e-02 -3.9890e-01 ...  2.5390e-01  1.9230e-01 -7.8312e-01]\n",
      "  [ 1.7088e-01  6.9102e-01  2.4236e-01 ...  8.7376e-02  7.5708e-01  9.6834e-01]\n",
      "  ...\n",
      "  [-1.0090e+00  4.5048e-02  2.9127e-01 ... -1.9952e-01  4.8662e-02 -5.5990e-02]\n",
      "  [ 4.0555e-01  7.9403e-01  6.1938e-01 ...  6.2261e-01  5.3045e-01  6.2612e-01]\n",
      "  [ 1.5432e+00  1.0235e+00  5.1813e-01 ...  8.0354e-01  1.1536e+00  1.7729e+00]]]\n"
     ]
    }
   ],
   "source": [
    "for i in range(4):\n",
    "    print(f'rotation by {i}*pi/2:', y.transform(i).tensor[0, ...].detach().numpy().squeeze())"
   ]
  },
  {
   "cell_type": "markdown",
   "metadata": {},
   "source": [
    "Many learning tasks require to build models which are **invariant** under rotations.\n",
    "We can compute invariant features from the output of the model using an **invariant map**.\n",
    "For instance, we can take the maximum value within each regular field.\n",
    "We do so using `nn.GroupPooling`:"
   ]
  },
  {
   "cell_type": "code",
   "execution_count": 18,
   "metadata": {},
   "outputs": [
    {
     "name": "stdout",
     "output_type": "stream",
     "text": [
      "rotation by 0*pi/2: [0.1004 0.5952]\n",
      "rotation by 1*pi/2: [0.1004 0.5952]\n",
      "rotation by 2*pi/2: [0.1004 0.5952]\n",
      "rotation by 3*pi/2: [0.1004 0.5952]\n"
     ]
    }
   ],
   "source": [
    "invariant_map = nn.GroupPooling(feat_type_out)\n",
    "\n",
    "y = invariant_map(avgpool(model(x)))\n",
    "\n",
    "for i in range(4):\n",
    "    print(f'rotation by {i}*pi/2:', y.transform(i).tensor[0, ...].detach().numpy().squeeze())"
   ]
  },
  {
   "cell_type": "code",
   "execution_count": 19,
   "metadata": {},
   "outputs": [],
   "source": [
    "# for each group element\n",
    "for g in r2_act.testing_elements:\n",
    "    # rotated the input image\n",
    "    x_transformed = x.transform(g)\n",
    "    y_from_x_transformed = invariant_map(avgpool(model(x_transformed)))\n",
    "    \n",
    "    y_transformed_from_x = y # no .transform(g) needed since y should be invariant!\n",
    "    \n",
    "    # check that the output did not change\n",
    "    # note that here we are not rotating the original output y as before\n",
    "    assert torch.allclose(y_from_x_transformed.tensor, y_transformed_from_x.tensor, atol=1e-6), g"
   ]
  },
  {
   "cell_type": "markdown",
   "metadata": {},
   "source": [
    "## Other Field Field Types"
   ]
  },
  {
   "cell_type": "markdown",
   "metadata": {},
   "source": [
    "Besides scalar fields and regular fields, many other types of feature fields exist.\n",
    "\n",
    "An example of practical importance are (tangent) **vector fields** which model for instance an optical flow fields.\n",
    "On the plane, a vector field\n",
    "$$f: \\mathbb{R}^2 \\to \\mathbb{R}^2$$\n",
    "\n",
    "associates a 2-dimensional (tangent) vector to each position.\n",
    "Under rotations a vector field transforms by:\n",
    "1. moving each vector to a new location\n",
    "2. rotating the vectors themself\n",
    "\n",
    "Together, the $G$-transformation of a vector field is therefore given by\n",
    "\n",
    "$$ \\big[\\mathcal{R}_{\\theta}\\, f\\big](x)\n",
    "   \\ :=\\ \\psi(\\theta\\,)\\, f\\big(\\psi(-\\theta)x\\big),$$\n",
    "\n",
    "that is, the representation $\\rho(\\theta)$ coincides with the rotation matrix\n",
    "$\\psi(\\theta) = \\begin{bmatrix} \\cos(\\theta) & \\sin(\\theta) \\\\ -\\sin(\\theta) & \\cos(\\theta) \\end{bmatrix} \\in SO(2)$ itself.\n",
    "\n",
    "In general, the *type* of a feature field is in one-to-one correspondence with a choice of group representation $\\rho:G\\to\\operatorname{GL}(\\mathbb{R}^c)$ which describes how the feature vectors transform under the action of $G$.\n",
    "`e2cnn` implements **irreducible representations** (irreps), **regular representations**, **quotient representations** and **induced representations** and provides an interface to construct any other choice of representation.\n",
    "For more information we refer to the\n",
    "[docs](https://quva-lab.github.io/e2cnn/api/e2cnn.group.html#representations)\n",
    "and to Section 2.6 of our\n",
    "[paper](https://arxiv.org/pdf/1911.08251.pdf)."
   ]
  },
  {
   "cell_type": "markdown",
   "metadata": {},
   "source": [
    "For now, let us return to the example of (tangent) vector fields.\n",
    "The rotation matrix representation $\\psi$ of the cyclic group $G=C_4$ is identical to the *irreducible representation* (irrep) of $C_4$ with frequency $1$.\n",
    "To specify a vector field as output, we therefore have to pass this irrep to the `FieldType`:"
   ]
  },
  {
   "cell_type": "code",
   "execution_count": 20,
   "metadata": {},
   "outputs": [],
   "source": [
    "feat_type_out = nn.FieldType(r2_act, [r2_act.irrep(1)])"
   ]
  },
  {
   "cell_type": "markdown",
   "metadata": {},
   "source": [
    "To verify that the output field indeed transforms as a *vector field*, we build a simple model which maps a random scalar field to a vector field and apply it to rotated versions of the scalar input field.\n",
    "As expected, the output vector field transforms by moving each vector to a new position and rotating them."
   ]
  },
  {
   "cell_type": "code",
   "execution_count": 21,
   "metadata": {
    "scrolled": true
   },
   "outputs": [
    {
     "name": "stderr",
     "output_type": "stream",
     "text": [
      "/home/jack/anaconda3/envs/cnn-research/lib/python3.7/site-packages/e2cnn/nn/modules/r2_conv/basisexpansion_singleblock.py:80: UserWarning: indexing with dtype torch.uint8 is now deprecated, please use a dtype torch.bool instead. (Triggered internally at  ../aten/src/ATen/native/IndexingUtils.h:28.)\n",
      "  full_mask[mask] = norms.to(torch.uint8)\n"
     ]
    },
    {
     "data": {
      "image/png": "[encoded data removed]",
      "text/plain": [
       "<Figure size 1152x288 with 4 Axes>"
      ]
     },
     "metadata": {
      "needs_background": "light"
     },
     "output_type": "display_data"
    }
   ],
   "source": [
    "import matplotlib.pyplot as plt\n",
    "import numpy as np\n",
    "\n",
    "feat_type_in = nn.FieldType(r2_act, [r2_act.trivial_repr])\n",
    "feat_type_hid = nn.FieldType(r2_act, 8*[r2_act.regular_repr])\n",
    "\n",
    "model = nn.SequentialModule(\n",
    "    nn.R2Conv(feat_type_in, feat_type_hid, kernel_size=3),\n",
    "    nn.InnerBatchNorm(feat_type_hid),\n",
    "    nn.ReLU(feat_type_hid),\n",
    "    nn.R2Conv(feat_type_hid, feat_type_hid, kernel_size=3),\n",
    "    nn.InnerBatchNorm(feat_type_hid),\n",
    "    nn.ReLU(feat_type_hid),\n",
    "    nn.R2Conv(feat_type_hid, feat_type_out, kernel_size=3),\n",
    ").eval()\n",
    "\n",
    "S = 11\n",
    "x = torch.randn(1, 1, S, S)\n",
    "x = nn.GeometricTensor(x, feat_type_in)\n",
    "\n",
    "fig, axs = plt.subplots(1, r2_act.fibergroup.order(), sharex=True, sharey=True, figsize=(16, 4))\n",
    "\n",
    "X, Y = np.meshgrid(range(S-6), range(S-7, -1, -1))\n",
    "\n",
    "# for each group element\n",
    "for i, g in enumerate(r2_act.testing_elements):\n",
    "    # transform the input\n",
    "    x_transformed = x.transform(g)\n",
    "    \n",
    "    y = model(x_transformed)\n",
    "    y = y.tensor.detach().numpy().squeeze()\n",
    "    \n",
    "    # plot the output vector field\n",
    "    axs[i].quiver(X, Y, y[0, ...], y[1, ...], units='xy')\n",
    "    axs[i].set_title(g*90)\n",
    "    \n",
    "plt.show()\n"
   ]
  },
  {
   "cell_type": "markdown",
   "metadata": {},
   "source": [
    "We want to mention that vector fields can not be acted on by ReLU nonlinearities since this mapping would not be equivariant.\n",
    "To see this, consider a vector $(1,0)^T$ which under a rotation by $\\pi$ transforms to $(-1,0)^T$.\n",
    "Acting on the former by a ReLU returns the vector itself while the latter will be projected to the origin such that all information of the feature is lost.\n",
    "\n",
    "As an alternative, we can apply nonlinearities which solely act on the *norm* of the vector but not on its orientation.\n",
    "Since the vectors rotate under the action of $C_4$, both operations commute which means that such\n",
    "[NormNonLinearities](https://quva-lab.github.io/e2cnn/api/e2cnn.nn.html#normnonlinearity)\n",
    "are equivariant for this field type.\n",
    "For instance, we can apply so called *norm-ReLUs*:"
   ]
  },
  {
   "cell_type": "code",
   "execution_count": 6,
   "metadata": {},
   "outputs": [],
   "source": [
    "norm_relu = nn.NormNonLinearity(feat_type_out, 'n_relu')\n",
    "\n",
    "y = norm_relu(model(x))\n",
    "\n",
    "for g in r2_act.testing_elements:\n",
    "    x_transformed = x.transform(g)\n",
    "    y_from_x_transformed = norm_relu(model(x_transformed))\n",
    "    \n",
    "    y_transformed_from_x = y.transform(g)\n",
    "    \n",
    "    assert torch.allclose(y_from_x_transformed.tensor, y_transformed_from_x.tensor, atol=1e-5), g"
   ]
  },
  {
   "cell_type": "markdown",
   "metadata": {},
   "source": [
    "## Mixed Feature Fields"
   ]
  },
  {
   "cell_type": "markdown",
   "metadata": {},
   "source": [
    "Our implementation allows for different feature field types in a feature space.\n",
    "To achieve this, one simply has to pass a list of different representations when instantiating the `FieldType`.\n",
    "As an example, let's build a feature field with 2 scalar fields, 2 regular fields and 1 vector field:"
   ]
  },
  {
   "cell_type": "code",
   "execution_count": 23,
   "metadata": {},
   "outputs": [],
   "source": [
    "feat_type_out = nn.FieldType(r2_act, 2*[r2_act.trivial_repr] + 2*[r2_act.regular_repr] + 1*[r2_act.irrep(1)])"
   ]
  },
  {
   "cell_type": "markdown",
   "metadata": {},
   "source": [
    "or equivalently"
   ]
  },
  {
   "cell_type": "code",
   "execution_count": 24,
   "metadata": {},
   "outputs": [],
   "source": [
    "scalar_fields = nn.FieldType(r2_act, 2*[r2_act.trivial_repr])\n",
    "regular_fields = nn.FieldType(r2_act, 2*[r2_act.regular_repr])\n",
    "vector_field = nn.FieldType(r2_act, 1*[r2_act.irrep(1)])\n",
    "feat_type_out = scalar_fields + regular_fields + vector_field"
   ]
  },
  {
   "cell_type": "markdown",
   "metadata": {},
   "source": [
    "While the convolution layers can deal with mixed field types automatically, some additional care is needed when we apply non-linearities to mixed field types since these might not all allow for the same nonlinearity.\n",
    "\n",
    "In the example above, we can apply ReLUs to the scalar and regular fields but we need to apply e.g. Norm-ReLUs to the vector field.\n",
    "This can be achieved by using\n",
    "[`MultipleModule`](https://quva-lab.github.io/e2cnn/api/e2cnn.nn.html#e2cnn.nn.MultipleModule)s\n",
    "which split the input tensor into multiple branches, associating a different label to each of them.\n",
    "Each branch is then being acted on by its own module, here an `nn.ReLU` for the `'relu'` branch and an `nn.NormNonLinearity` for the `'norm'` branch.\n",
    "The output of the module is merged back together automatically."
   ]
  },
  {
   "cell_type": "code",
   "execution_count": 25,
   "metadata": {},
   "outputs": [],
   "source": [
    "relu = nn.ReLU(scalar_fields + regular_fields)\n",
    "norm_relu = nn.NormNonLinearity(vector_field)\n",
    "\n",
    "nonlinearity = nn.MultipleModule(\n",
    "                    feat_type_out,\n",
    "                    ['relu']*len(scalar_fields+regular_fields) + ['norm']*len(vector_field),\n",
    "                    [(relu, 'relu'), (norm_relu, 'norm')]\n",
    ")"
   ]
  },
  {
   "cell_type": "markdown",
   "metadata": {},
   "source": [
    "We once again verify that this operation is $C_4$-equivariant:"
   ]
  },
  {
   "cell_type": "code",
   "execution_count": 26,
   "metadata": {},
   "outputs": [],
   "source": [
    "model = nn.SequentialModule(\n",
    "    nn.R2Conv(feat_type_in, feat_type_hid, kernel_size=3),\n",
    "    nn.InnerBatchNorm(feat_type_hid),\n",
    "    nn.ReLU(feat_type_hid),\n",
    "    nn.R2Conv(feat_type_hid, feat_type_out, kernel_size=3),\n",
    "    nonlinearity,\n",
    ").eval()\n",
    "\n",
    "x = torch.randn(1, 1, 17, 17)\n",
    "x = nn.GeometricTensor(x, feat_type_in)\n",
    "\n",
    "y = model(x)\n",
    "\n",
    "for g in r2_act.testing_elements:\n",
    "    x_transformed = x.transform(g)\n",
    "    y_from_x_transformed = model(x_transformed)\n",
    "    \n",
    "    y_transformed_from_x = y.transform(g)\n",
    "    \n",
    "    assert torch.allclose(y_from_x_transformed.tensor, y_transformed_from_x.tensor, atol=1e-5), g"
   ]
  }
 ],
 "metadata": {
  "kernelspec": {
   "display_name": "Python 3.7.11 ('cnn-research')",
   "language": "python",
   "name": "python3"
  },
  "language_info": {
   "codemirror_mode": {
    "name": "ipython",
    "version": 3
   },
   "file_extension": ".py",
   "mimetype": "text/x-python",
   "name": "python",
   "nbconvert_exporter": "python",
   "pygments_lexer": "ipython3",
   "version": "3.7.11"
  },
  "vscode": {
   "interpreter": {
    "hash": "4aab32624900a1e526614b23abf26271900e28cb7da6f6f2f9133d2cb55a490c"
   }
  }
 },
 "nbformat": 4,
 "nbformat_minor": 2
}
